{
  "cells": [
    {
      "cell_type": "markdown",
      "metadata": {
        "id": "Qm4aCQp_n5dd"
      },
      "source": [
        "# 1. Quantum machine learning, masters thesis source code.\n",
        "Sources for original codes are:\n",
        "* https://colab.research.google.com/github/pytorch/tutorials/blob/gh-pages/_downloads/63ef278c9730746362d08162a440df77/speech_command_classification_with_torchaudio_tutorial.ipynb\n",
        "* https://github.com/huckiyang/QuantumSpeech-QCNN"
      ]
    },
    {
      "cell_type": "markdown",
      "metadata": {
        "id": "uKiVmhI5TelQ"
      },
      "source": [
        "# 2. Data preparation"
      ]
    },
    {
      "cell_type": "code",
      "execution_count": null,
      "metadata": {
        "id": "u46kpQPtn3eT"
      },
      "outputs": [],
      "source": [
        "!pip install pydub torch==1.7.0+cu101 torchvision==0.8.1+cu101 torchaudio==0.7.0 -f https://download.pytorch.org/whl/torch_stable.html\n",
        "\n",
        "import matplotlib.pyplot as plt\n",
        "import os\n",
        "import torch\n",
        "import torch.nn as nn\n",
        "import torch.nn.functional as F\n",
        "import torch.optim as optim\n",
        "import torchaudio\n",
        "\n",
        "from tqdm import tqdm\n",
        "from torchaudio.datasets import SPEECHCOMMANDS\n",
        "\n",
        "device = torch.device(\"cuda\" if torch.cuda.is_available() else \"cpu\")"
      ]
    },
    {
      "cell_type": "markdown",
      "metadata": {
        "id": "Jvma096dTq4e"
      },
      "source": [
        "# 3. Prepare SpeechCommands dataset"
      ]
    },
    {
      "cell_type": "code",
      "execution_count": null,
      "metadata": {
        "id": "pyPXmkpKqNnR"
      },
      "outputs": [],
      "source": [
        "class SubsetSC(SPEECHCOMMANDS):\n",
        "    def __init__(self, subset: str = None):\n",
        "        super().__init__(\"./\", download=True)\n",
        "\n",
        "        def load_list(filename):\n",
        "            filepath = os.path.join(self._path, filename)\n",
        "            with open(filepath) as fileobj:\n",
        "                return [os.path.normpath(os.path.join(self._path, line.strip())) for line in fileobj]\n",
        "\n",
        "        if subset == \"validation\":\n",
        "            self._walker = load_list(\"validation_list.txt\")\n",
        "        elif subset == \"testing\":\n",
        "            self._walker = load_list(\"testing_list.txt\")\n",
        "        elif subset == \"training\":\n",
        "            excludes = load_list(\"validation_list.txt\") + load_list(\"testing_list.txt\")\n",
        "            excludes = set(excludes)\n",
        "            self._walker = [w for w in self._walker if w not in excludes]\n",
        "\n",
        "# Create training and testing split of the data. We do not use validation in this tutorial.\n",
        "train_set = SubsetSC(\"training\")\n",
        "test_set = SubsetSC(\"testing\")\n",
        "\n",
        "waveform, sample_rate, label, speaker_id, utterance_number = train_set[0]\n",
        "labels = sorted(list(set(datapoint[2] for datapoint in train_set)))"
      ]
    },
    {
      "cell_type": "markdown",
      "metadata": {
        "id": "ctaXwnxa2OfE"
      },
      "source": [
        "# 4. Formatting of data."
      ]
    },
    {
      "cell_type": "code",
      "execution_count": null,
      "metadata": {
        "id": "CG4cQXTC2Q6z"
      },
      "outputs": [],
      "source": [
        "new_sample_rate = 8000\n",
        "transform = torchaudio.transforms.Resample(orig_freq=sample_rate, new_freq=new_sample_rate)\n",
        "transformed = transform(waveform)"
      ]
    },
    {
      "cell_type": "markdown",
      "metadata": {
        "id": "gr4UHf9c4Wb5"
      },
      "source": [
        "# 5. Encoding of data."
      ]
    },
    {
      "cell_type": "code",
      "execution_count": null,
      "metadata": {
        "id": "8zXQv-8g4YXb"
      },
      "outputs": [],
      "source": [
        "import numpy as np\n",
        "\n",
        "labels  = np.load('/datasets/new_labels.npy')\n",
        "labels = labels.tolist()\n",
        "\n",
        "def label_to_index(word):\n",
        "    # Return the position of the word in labels\n",
        "    return torch.tensor(labels.index(word))\n",
        "\n",
        "def index_to_label(index):\n",
        "    # Return the word corresponding to the index in labels\n",
        "    # This is the inverse of label_to_index\n",
        "    return labels[index]"
      ]
    },
    {
      "cell_type": "markdown",
      "metadata": {
        "id": "FhTsYGF52pi0"
      },
      "source": [
        "# 6. Quantum CNN"
      ]
    },
    {
      "cell_type": "code",
      "execution_count": null,
      "metadata": {
        "id": "AKPLw3pWd4pp"
      },
      "outputs": [],
      "source": [
        "!pip install pennylane\n",
        "!pip install qiskit\n",
        "\n",
        "import librosa\n",
        "import librosa.display\n",
        "import pandas as pd\n",
        "import pennylane as qml\n",
        "import qiskit\n",
        "import seaborn as sn\n",
        "import tensorflow as tf\n",
        "import time as ti\n",
        "import warnings\n",
        "import random\n",
        "\n",
        "from keras.utils.layer_utils import count_params\n",
        "from pennylane import numpy as np\n",
        "from pennylane.templates import RandomLayers\n",
        "from sklearn.model_selection import train_test_split\n",
        "from sklearn.preprocessing import LabelEncoder\n",
        "from tensorflow import keras\n",
        "from tensorflow.keras import layers as L\n",
        "from tensorflow.keras import backend as K\n",
        "from tensorflow.keras.callbacks import EarlyStopping, ModelCheckpoint\n",
        "from tensorflow.keras.layers  import Conv2D, MaxPooling2D, Dense, Flatten, GRU, BatchNormalization, Conv1D, Dropout, Bidirectional, MaxPooling1D, Input, Lambda, TimeDistributed, Activation\n",
        "from tensorflow.keras.losses import categorical_crossentropy\n",
        "from tensorflow.keras.models import Sequential, Model, load_model\n",
        "from tensorflow.keras.optimizers import RMSprop, SGD\n",
        "from tensorflow.keras.utils import set_random_seed\n",
        "from tensorflow.math import confusion_matrix\n",
        "from tensorflow.random import set_seed\n",
        "\n",
        "\n",
        "## Local Definition \n",
        "#os.environ[\"CUDA_VISIBLE_DEVICES\"]=\"1\"\n"
      ]
    },
    {
      "cell_type": "markdown",
      "metadata": {
        "id": "UsitftMibrd9"
      },
      "source": [
        "# 7. Limited dataset"
      ]
    },
    {
      "cell_type": "code",
      "execution_count": null,
      "metadata": {
        "id": "Y1wF8baLbyjm"
      },
      "outputs": [],
      "source": [
        "reduced_labels = ['left', 'go', 'yes', 'down', 'up', 'on', 'right', 'no', 'off', 'stop']"
      ]
    },
    {
      "cell_type": "markdown",
      "metadata": {
        "id": "G9WEFUrJC5Ug"
      },
      "source": [
        "# 8. Mount Google drive to colab for saving the data"
      ]
    },
    {
      "cell_type": "code",
      "execution_count": null,
      "metadata": {
        "id": "hy2H8EZtC35i"
      },
      "outputs": [],
      "source": [
        "from google.colab import drive\n",
        "drive.mount(\"/content/drive\", force_remount=True)"
      ]
    },
    {
      "cell_type": "markdown",
      "metadata": {
        "id": "Z9WfGQUHluTW"
      },
      "source": [
        "# 9. LSTM Model"
      ]
    },
    {
      "cell_type": "code",
      "execution_count": null,
      "metadata": {
        "id": "j-4WdXpU3O4l"
      },
      "outputs": [],
      "source": [
        "def attrnn_Model(x_in, labels, ablation = False, params = 64, divider = 1):\n",
        "    # simple LSTM\n",
        "    rnn_func = L.LSTM\n",
        "    # Restrict parameter amount\n",
        "    use_Unet = True\n",
        "\n",
        "    if len(x_in.shape) >= 3:\n",
        "        h_feat,w_feat,ch_size = x_in.shape\n",
        "        inputs = keras.layers.Input(shape=(h_feat, w_feat, ch_size))\n",
        "    else:\n",
        "        h_feat, w_feat = x_in.shape\n",
        "        inputs = keras.layers.Input(shape=(h_feat, w_feat))\n",
        "\n",
        "    inputs = L.Input(shape=(h_feat, w_feat, ch_size))\n",
        "\n",
        "    if ablation == True:\n",
        "        x = L.Conv2D(4, (1, 1), strides=(2, 2), activation='relu', padding='same', name='abla_conv')(inputs)\n",
        "        x = BatchNormalization(axis=-1, momentum=0.99, epsilon=1e-3, center=True, scale=True)(x)\n",
        "    else:\n",
        "        x = BatchNormalization(axis=-1, momentum=0.99, epsilon=1e-3, center=True, scale=True)(inputs)\n",
        "\n",
        "    # note that Melspectrogram puts the sequence in shape (batch_size, melDim, timeSteps, 1)\n",
        "    # we would rather have it the other way around for LSTMs\n",
        "    x = L.Permute((2, 1, 3))(x)\n",
        "\n",
        "    if use_Unet == True:\n",
        "        x = L.Conv2D(16//divider, (5, 1), activation='relu', padding='same')(x)\n",
        "        up = L.BatchNormalization()(x)\n",
        "        x = L.Conv2D(32//divider, (5, 1), activation='relu', padding='same')(up)\n",
        "        x = L.BatchNormalization()(x)\n",
        "        x = L.Conv2D(16//divider, (5, 1), activation='relu', padding='same')(x)\n",
        "        down = L.BatchNormalization()(x)\n",
        "        merge = L.Concatenate(axis=3)([up,down])\n",
        "        x = L.Conv2D(1, (5, 1), activation='relu', padding='same')(merge)\n",
        "        x = L.BatchNormalization()(x)\n",
        "    else:\n",
        "        x = L.Conv2D(10, (5, 1), activation='relu', padding='same')(x)\n",
        "        x = L.BatchNormalization()(x)\n",
        "        x = L.Conv2D(1, (5, 1), activation='relu', padding='same')(x)\n",
        "        x = L.BatchNormalization()(x)\n",
        "\n",
        "    x = L.Lambda(lambda q: K.squeeze(q, -1), name='squeeze_last_dim')(x)\n",
        "    # Classical model has significantly more parameters here\n",
        "    x = L.Bidirectional(rnn_func(params//divider, return_sequences=True))(x)  # [b_s, seq_len, vec_dim]\n",
        "    x = L.Bidirectional(rnn_func(64//divider, return_sequences=True))(x)  # [b_s, seq_len, vec_dim]\n",
        "\n",
        "    xFirst = L.Lambda(lambda q: q[:, -1])(x)  # [b_s, vec_dim]\n",
        "    query = L.Dense(128//divider)(xFirst)\n",
        "    #query = L.Dense(126)(xFirst)\n",
        "\n",
        "    # dot product attention\n",
        "    attScores = L.Dot(axes=[1, 2])([query, x])\n",
        "    attScores = L.Softmax(name='attSoftmax')(attScores)  # [b_s, seq_len]\n",
        "\n",
        "    # rescale sequence\n",
        "    attVector = L.Dot(axes=[1, 1])([attScores, x])  # [b_s, vec_dim]\n",
        "\n",
        "    x = L.Dense(64//divider, activation='relu')(attVector)\n",
        "    x = L.Dense(32//divider)(x)\n",
        "\n",
        "    output = L.Dense(len(labels), activation='softmax', name='output')(x)\n",
        "\n",
        "    model = Model(inputs=inputs, outputs=output, name='Attn-BiLSTM')\n",
        "    model.compile(\n",
        "        optimizer=SGD(learning_rate=0.02, decay=1e-6, momentum=0.9, nesterov=True, clipnorm=5),\n",
        "        #optimizer=SGD(learning_rate=0.02, decay=1e-6, momentum=0.1, nesterov=True, clipnorm=5),\n",
        "        loss=\"categorical_crossentropy\",\n",
        "        metrics=[\"accuracy\"],)\n",
        "\n",
        "    return model"
      ]
    },
    {
      "cell_type": "markdown",
      "metadata": {
        "id": "D9KLO4QO3djn"
      },
      "source": [
        "# 10. Mel spectrogram generator"
      ]
    },
    {
      "cell_type": "code",
      "execution_count": null,
      "metadata": {
        "id": "X4PMHHYn3l16"
      },
      "outputs": [],
      "source": [
        "def gen_mel(labels, train_audio_path, sr, port):\n",
        "    all_wave = []\n",
        "    all_label = []\n",
        "    #Original values\n",
        "    #win_size = 1024\n",
        "    #hop = 128\n",
        "    win_size = 400\n",
        "    hop = 300\n",
        "    for num, wav in enumerate(train_audio_path, 0):\n",
        "        if num % port ==0:   # take 1/port samples\n",
        "            # Test same sample ratio as in classical case\n",
        "            if sr == 8000:\n",
        "                audio_arr = np.array(transform(wav[0]))\n",
        "            else:\n",
        "                audio_arr = np.array(wav[0])\n",
        "            \n",
        "            shape = audio_arr.shape\n",
        "            if(shape[1] == sr and wav[2] in labels):\n",
        "                audio_arr = audio_arr.reshape(sr)\n",
        "                mel_feat = librosa.feature.melspectrogram(audio_arr, sr=sr, n_fft=win_size, hop_length=hop, power=1.0, n_mels=60, fmin=40.0, fmax=sr/2)\n",
        "                all_wave.append(np.expand_dims(mel_feat, axis=2))\n",
        "                all_label.append(wav[2])\n",
        "    #print(all_label)\n",
        "    return all_wave, all_label"
      ]
    },
    {
      "cell_type": "markdown",
      "metadata": {
        "id": "A_ti0sx73gko"
      },
      "source": [
        "# 11. Quantum circuit and QCNN"
      ]
    },
    {
      "cell_type": "code",
      "execution_count": null,
      "metadata": {
        "id": "lu4OyGUD3que"
      },
      "outputs": [],
      "source": [
        "n_w = 4 # numbers of wires def 4\n",
        "noise_mode = False # for running at QPU\n",
        "\n",
        "if  noise_mode == True:\n",
        "    dev = qml.device('qiskit.aer', wires= n_w, noise_model=noise_model)\n",
        "else:\n",
        "    dev = qml.device(\"default.qubit\", wires= n_w)\n",
        "\n",
        "n_layers = 1\n",
        "\n",
        "# Random circuit parameters\n",
        "#rand_params = np.random.uniform(high= 2 * np.pi, size=(n_layers, n_w)) # def 2, n_w = 4\n",
        "rand_params = np.array([[3.48469964, 4.89657317, 3.11940734, 2.06955704]])\n",
        "\n",
        "params = [[0.04439891,0.14490549,3.29725643],\n",
        "          [2.51240058,0.29320901,6.11828637],\n",
        "          [1.46254547,0.56929702,3.88543389],\n",
        "          [2.40307956,6.17782186,2.93275775]]\n",
        "\n",
        "@qml.qnode(dev)\n",
        "def circuit(phi=None):\n",
        "    # Encoding of 4 classical input values\n",
        "    for j in range(n_w):\n",
        "        qml.RY(np.pi * phi[j], wires=j)\n",
        "\n",
        "    # Random quantum circuit\n",
        "    RandomLayers(rand_params, wires=list(range(n_w)))\n",
        "\n",
        "    # Measurement producing 4 classical output values\n",
        "    return [qml.expval(qml.PauliZ(j)) for j in range(n_w)]\n",
        "\n",
        "@qml.qnode(dev)\n",
        "def circuit2(phi):\n",
        "    for j in range(n_w):\n",
        "        qml.RY(np.arctan(phi[j]), wires=j)\n",
        "        qml.RZ(np.arctan(phi[j]**2), wires=j)\n",
        "\n",
        "    qml.CNOT(wires=[0,1])\n",
        "    qml.CNOT(wires=[1,2])\n",
        "    qml.CNOT(wires=[2,3])\n",
        "    qml.CNOT(wires=[3,0])\n",
        "\n",
        "    for j in range(n_w):\n",
        "        x,y,z = params[j]\n",
        "        qml.Rot(x,y,z, wires=j)\n",
        "    \n",
        "    return qml.expval(qml.PauliZ(0))\n",
        "    \n",
        "def quanv(image, kr):\n",
        "    h_feat, w_feat, ch_n = image.shape\n",
        "    \"\"\"Convolves the input speech with many applications of the same quantum circuit.\"\"\"\n",
        "    out = np.zeros((h_feat//kr, w_feat//kr, n_w))\n",
        "\n",
        "    # Loop over the coordinates of the top-left pixel of squares\n",
        "    for j in range(1, h_feat, kr):\n",
        "        for k in range(1, w_feat, kr):\n",
        "            # Process a squared 3x3 region of the image with a quantum circuit\n",
        "            if kr == 3:\n",
        "                q_results = circuit(# kernel 3 \n",
        "                    phi=[image[j, k, 0], image[j, k + 1, 0], image[j, k + 2, 0],\n",
        "                         image[j + 1, k, 0], image[j + 1, k + 1, 0], image[j + 1, k +2 , 0],\n",
        "                         image[j+2, k, 0], image[j+2, k+1, 0], image[j+2, k+2, 0]])\n",
        "            # Process a squared 2x2 region of the image with a quantum circuit\n",
        "            else:\n",
        "                q_results = circuit(# Kernel 2\n",
        "                    phi=[image[j-1, k-1, 0], image[j-1, k, 0],\n",
        "                         image[j, k-1, 0], image[j, k, 0]])\n",
        "            # Assign expectation values to different channels of the output pixel (j/2, k/2)\n",
        "            for c in range(n_w):\n",
        "                out[j // kr, k // kr, c] = q_results[c]\n",
        "    return out\n",
        "\n",
        "def quanv2(image, kr):\n",
        "    h_feat, w_feat, ch_n = image.shape\n",
        "    \"\"\"Convolves the input speech with many applications of the same quantum circuit.\"\"\"\n",
        "    out = np.zeros((h_feat//kr, w_feat//kr, ch_n))\n",
        "\n",
        "    # Loop over the coordinates of the top-left pixel of squares\n",
        "    for j in range(1, h_feat, kr):\n",
        "        for k in range(1, w_feat, kr):\n",
        "            # Process a squared 3x3 region of the image with a quantum circuit\n",
        "            q_results = circuit2(\n",
        "                phi=[image[j-1, k-1, 0], image[j-1, k, 0],\n",
        "                      image[j, k-1, 0], image[j, k, 0]])\n",
        "            # Assign expectation values to different channels of the output pixel (j/2, k/2)\n",
        "            out[j // kr, k // kr, 0] = q_results \n",
        "            \n",
        "    return out\n",
        "\n",
        "def gen_qspeech(x_train, x_valid, kr): # kernal size = 2x2 or 3x3\n",
        "    #q_train = []\n",
        "    #q_train = np.load('/datasets/q_trainFULL_ALTKERN.npy')\n",
        "    #q_train = np.load('/datasets/q_trainTIME_TEST.npy')\n",
        "    q_train = np.load('/datasets/q_trainTIME_TEST_kernel2.npy')\n",
        "    q_train = q_train.tolist()\n",
        "    print(\"Quantum pre-processing of train Speech:\")\n",
        "    for idx, img in enumerate(x_train):\n",
        "        print(\"\\r{}/{}        \".format(idx + 1, len(x_train)),end='')\n",
        "        #q_train.append(quanv(img, kr))\n",
        "        q_train.append(quanv2(img, kr))\n",
        "    \n",
        "    q_train = np.asarray(q_train)\n",
        "    \n",
        "    #q_valid = np.load('/datasets/q_validFULL_ALTKERN.npy')\n",
        "    #q_valid = np.load('/datasets/q_validTIME_TEST.npy')\n",
        "    q_valid = np.load('/datasets/q_validTIME_TEST_kernel2.npy')\n",
        "    q_valid = q_valid.tolist()\n",
        "    #q_valid =[]\n",
        "    print(\"\\nQuantum pre-processing of test Speech:\")\n",
        "    for idx, img in enumerate(x_valid):\n",
        "        print(\"\\r{}/{}        \".format(idx + 1, len(x_valid)), end=\"\")\n",
        "        #q_valid.append(quanv(img, kr))\n",
        "        q_valid.append(quanv2(img, kr))\n",
        "    \n",
        "    q_valid = np.asarray(q_valid)\n",
        "    #np.save('/datasets/q_trainTIME_TEST.npy',q_train)\n",
        "    #np.save('/datasets/q_validTIME_TEST.npy',q_valid)\n",
        "\n",
        "    np.save('/datasets/q_trainTIME_TEST_kernel2.npy',q_train)\n",
        "    np.save('/datasets/q_validTIME_TEST_kernel2.npy',q_valid)\n",
        "    \n",
        "    return q_train, q_valid"
      ]
    },
    {
      "cell_type": "markdown",
      "metadata": {
        "id": "LiuyFwYQDzrx"
      },
      "source": [
        "# 12. Original kernel"
      ]
    },
    {
      "cell_type": "code",
      "execution_count": null,
      "metadata": {
        "colab": {
          "base_uri": "https://localhost:8080/",
          "height": 501
        },
        "id": "FqYjMNV6cPr2",
        "outputId": "cb7da394-0fdd-4a72-e298-0f6c9d252e0d"
      },
      "outputs": [
        {
          "name": "stderr",
          "output_type": "stream",
          "text": [
            "/usr/lib/python3.8/_collections_abc.py:832: MatplotlibDeprecationWarning: \n",
            "The datapath rcparam was deprecated in Matplotlib 3.2.1 and will be removed two minor releases later.\n",
            "  self[key] = other[key]\n",
            "/usr/lib/python3.8/_collections_abc.py:832: MatplotlibDeprecationWarning: \n",
            "The savefig.frameon rcparam was deprecated in Matplotlib 3.1 and will be removed in 3.3.\n",
            "  self[key] = other[key]\n",
            "/usr/lib/python3.8/_collections_abc.py:832: MatplotlibDeprecationWarning: \n",
            "The text.latex.unicode rcparam was deprecated in Matplotlib 3.0 and will be removed in 3.2.\n",
            "  self[key] = other[key]\n",
            "/usr/lib/python3.8/_collections_abc.py:832: MatplotlibDeprecationWarning: \n",
            "The verbose.fileo rcparam was deprecated in Matplotlib 3.1 and will be removed in 3.3.\n",
            "  self[key] = other[key]\n",
            "/usr/lib/python3.8/_collections_abc.py:832: MatplotlibDeprecationWarning: \n",
            "The verbose.level rcparam was deprecated in Matplotlib 3.1 and will be removed in 3.3.\n",
            "  self[key] = other[key]\n"
          ]
        },
        {
          "data": {
            "text/plain": [
              "(<Figure size 576x360 with 1 Axes>,\n",
              " <matplotlib.axes._axes.Axes at 0x7ff5637fe2b0>)"
            ]
          },
          "execution_count": 9,
          "metadata": {},
          "output_type": "execute_result"
        },
        {
          "data": {
            "image/png": "[encoded data removed]",
            "text/plain": [
              "<Figure size 576x360 with 1 Axes>"
            ]
          },
          "metadata": {},
          "output_type": "display_data"
        }
      ],
      "source": [
        "qml.draw_mpl(circuit, expansion_strategy=\"device\")(np.array([0,1,1,0]))"
      ]
    },
    {
      "cell_type": "markdown",
      "metadata": {
        "id": "m5m3Mh68D8I4"
      },
      "source": [
        "# 13. Alternative kernel"
      ]
    },
    {
      "cell_type": "code",
      "execution_count": null,
      "metadata": {
        "colab": {
          "base_uri": "https://localhost:8080/",
          "height": 501
        },
        "id": "5B3FEGeNlveq",
        "outputId": "8e17f821-5519-4d7e-f698-765886c8d2e9"
      },
      "outputs": [
        {
          "name": "stderr",
          "output_type": "stream",
          "text": [
            "/usr/lib/python3.8/_collections_abc.py:832: MatplotlibDeprecationWarning: \n",
            "The datapath rcparam was deprecated in Matplotlib 3.2.1 and will be removed two minor releases later.\n",
            "  self[key] = other[key]\n",
            "/usr/lib/python3.8/_collections_abc.py:832: MatplotlibDeprecationWarning: \n",
            "The savefig.frameon rcparam was deprecated in Matplotlib 3.1 and will be removed in 3.3.\n",
            "  self[key] = other[key]\n",
            "/usr/lib/python3.8/_collections_abc.py:832: MatplotlibDeprecationWarning: \n",
            "The text.latex.unicode rcparam was deprecated in Matplotlib 3.0 and will be removed in 3.2.\n",
            "  self[key] = other[key]\n",
            "/usr/lib/python3.8/_collections_abc.py:832: MatplotlibDeprecationWarning: \n",
            "The verbose.fileo rcparam was deprecated in Matplotlib 3.1 and will be removed in 3.3.\n",
            "  self[key] = other[key]\n",
            "/usr/lib/python3.8/_collections_abc.py:832: MatplotlibDeprecationWarning: \n",
            "The verbose.level rcparam was deprecated in Matplotlib 3.1 and will be removed in 3.3.\n",
            "  self[key] = other[key]\n"
          ]
        },
        {
          "data": {
            "text/plain": [
              "(<Figure size 720x360 with 1 Axes>,\n",
              " <matplotlib.axes._axes.Axes at 0x7ff4ecdde9d0>)"
            ]
          },
          "execution_count": 10,
          "metadata": {},
          "output_type": "execute_result"
        },
        {
          "data": {
            "image/png": "[encoded data removed]",
            "text/plain": [
              "<Figure size 720x360 with 1 Axes>"
            ]
          },
          "metadata": {},
          "output_type": "display_data"
        }
      ],
      "source": [
        "qml.draw_mpl(circuit2, expansion_strategy=\"device\")(np.array([0,1,1,0]))"
      ]
    },
    {
      "cell_type": "markdown",
      "metadata": {
        "id": "PE86hgD8pcOE"
      },
      "source": [
        "# 14. Classical convolution"
      ]
    },
    {
      "cell_type": "code",
      "execution_count": null,
      "metadata": {
        "id": "W7WmacdPkivv"
      },
      "outputs": [],
      "source": [
        "def kernel(phi):\n",
        "    # Classical kernel\n",
        "    kern = [1,0,0,1]\n",
        "    sum = 0;\n",
        "    for i,j in zip(kern,phi):\n",
        "        sum += i * j\n",
        "\n",
        "    return sum\n",
        "\n",
        "def conv(image, kr):\n",
        "    h_feat, w_feat, ch_n = image.shape\n",
        "    \"\"\"Classic convolution\"\"\"\n",
        "    out = np.zeros((h_feat//kr, w_feat//kr, ch_n))\n",
        "\n",
        "    # Loop over the coordinates of the top-left pixel of squares\n",
        "    for j in range(1, h_feat, kr):\n",
        "        for k in range(1, w_feat, kr):\n",
        "            result = kernel(\n",
        "                phi=[image[j-1, k-1, 0], image[j-1, k, 0],\n",
        "                      image[j, k-1, 0], image[j, k, 0]])\n",
        "            # Assign expectation values to output pixel (j/2, k/2)\n",
        "            out[j // kr, k // kr, 0] = result\n",
        "            \n",
        "    return out\n",
        "\n",
        "def gen_speech(x_train, x_valid, kr):\n",
        "    #c_train = np.load('/datasets/c_trainFULL.npy')\n",
        "    c_train = np.load('/datasets/c_trainTIME_TEST.npy')\n",
        "    c_train = c_train.tolist()\n",
        "    #c_train = []\n",
        "    print(\"Classical pre-processing of train Speech:\")\n",
        "    for idx, img in enumerate(x_train):\n",
        "        print(\"\\r{}/{}        \".format(idx + 1, len(x_train)),end='')\n",
        "        c_train.append(conv(img, kr))\n",
        "    \n",
        "    c_train = np.asarray(c_train)\n",
        "    \n",
        "    #c_valid = np.load('/datasets/c_validFULL.npy')\n",
        "    c_valid = np.load('/datasets/c_validTIME_TEST.npy')\n",
        "    c_valid = c_valid.tolist()\n",
        "    #c_valid =[]\n",
        "    print(\"\\nClassical pre-processing of test Speech:\")\n",
        "    for idx, img in enumerate(x_valid):\n",
        "        print(\"\\r{}/{}        \".format(idx + 1, len(x_valid)), end=\"\")\n",
        "        c_valid.append(conv(img, kr))\n",
        "    \n",
        "    c_valid = np.asarray(c_valid)\n",
        "    \n",
        "    np.save('/datasets/c_trainTIME_TEST.npy',c_train)\n",
        "    np.save('/datasets/c_validTIME_TEST.npy',c_valid)\n",
        "\n",
        "    return c_train, c_valid"
      ]
    },
    {
      "cell_type": "markdown",
      "metadata": {
        "id": "5e-HsngY3ZV-"
      },
      "source": [
        "# 15. Data preparation"
      ]
    },
    {
      "cell_type": "code",
      "execution_count": null,
      "metadata": {
        "id": "BA0NQks_2uD1"
      },
      "outputs": [],
      "source": [
        "START = 0\n",
        "END = 10\n",
        "SR = 16000\n",
        "# take 1/port samples\n",
        "PORT = 1\n",
        "kr = 2\n",
        "# Change kr to 1 to tests affect of stride 1\n",
        "#kr = 1\n",
        "\n",
        "def gen_train(labels, train_audio_path, sr, port):\n",
        "    all_wave, all_label = gen_mel(labels, train_audio_path, sr, port)\n",
        "\n",
        "    label_enconder = LabelEncoder()\n",
        "    y = label_enconder.fit_transform(all_label)\n",
        "    classes = list(label_enconder.classes_)\n",
        "    y = keras.utils.to_categorical(y, num_classes=len(labels))\n",
        "\n",
        "    x_train, x_valid, y_train, y_valid = train_test_split(np.array(all_wave),np.array(y),stratify=y,test_size = 0.2,random_state=777,shuffle=True)\n",
        "    h_feat, w_feat, _ = x_train[0].shape\n",
        "    \n",
        "    print(\"===== Shape\", h_feat, w_feat)\n",
        "\n",
        "    return x_train, x_valid, y_train, y_valid\n",
        "\n",
        "def gen_quanv(x_train, x_valid, kr):\n",
        "    print(\"Kernel = \", kr)\n",
        "    q_train, q_valid = gen_qspeech(x_train, x_valid, kr)\n",
        "\n",
        "    return q_train, q_valid\n",
        "\n",
        "def gen_conv(x_train, x_valid, kr):\n",
        "    print(\"Kernel = \", kr)\n",
        "    c_train, c_valid = gen_speech(x_train, x_valid, kr)\n",
        "\n",
        "    return c_train, c_valid\n",
        "\n",
        "def save_mel(x_train, x_valid, y_train, y_valid):\n",
        "    np.save('/datasets/x_train.npy',x_train)\n",
        "    np.save('/datasets/x_valid.npy',x_valid)\n",
        "    np.save('/datasets/y_train.npy',y_train)\n",
        "    np.save('/datasets/y_valid.npy',y_valid)\n",
        "\n",
        "def load_mel():\n",
        "    x_train = np.load('/datasets/equal_x_train.npy')\n",
        "    x_valid = np.load('/datasets/equal_x_valid.npy')\n",
        "    y_train = np.load('/datasets/equal_y_train.npy')\n",
        "    y_valid = np.load('/datasets/equal_y_valid.npy')\n",
        "\n",
        "    return x_train, x_valid, y_train, y_valid\n",
        "\n",
        "def load_mel_FULL():\n",
        "    x_train = np.load('/datasets/x_trainFULL.npy')\n",
        "    x_valid = np.load('/datasets/x_validFULL.npy')\n",
        "    y_train = np.load('/datasets/y_trainFULL.npy')\n",
        "    y_valid = np.load('/datasets/y_validFULL.npy')\n",
        "\n",
        "    return x_train, x_valid, y_train, y_valid\n",
        "\n",
        "def load_quanv():\n",
        "    q_train = np.load('/datasets/equal_q_train.npy')\n",
        "    q_valid = np.load('/datasets/equal_q_valid.npy')\n",
        "\n",
        "    return q_train, q_valid\n",
        "\n",
        "def load_quanv_FULL():\n",
        "    q_train = np.load('/datasets/q_trainFULL_ALTKERN.npy')\n",
        "    q_valid = np.load('/datasets/q_validFULL_ALTKERN.npy')\n",
        "\n",
        "    return q_train, q_valid\n",
        "\n",
        "def load_conv():\n",
        "    c_train = np.load('/datasets/c_trainFULL.npy')\n",
        "    c_valid = np.load('/datasets/c_validFULL.npy')\n",
        "\n",
        "    return c_train, c_valid\n",
        "\n",
        "#dataset = train_set+test_set\n",
        "#x_train, x_valid, y_train, y_valid = gen_train(labels, dataset, SR, PORT)\n",
        "#save_mel(x_train, x_valid, y_train, y_valid)\n",
        "x_train, x_valid, y_train, y_valid = load_mel_FULL()\n",
        "#print(x_train.shape,x_valid.shape,y_train.shape,y_valid.shape)\n",
        "#q_train, q_valid = load_quanv_FULL()\n",
        "#c_train, c_valid = load_conv()\n",
        "#equal_q_train, equal_q_valid = load_quanv()\n",
        "\n",
        "#START = q_valid.shape[0]\n",
        "#END = START+10\n",
        "\n",
        "c_train = []\n",
        "c_valid = []\n",
        "c_train = np.asarray(c_train)\n",
        "c_valid = np.asarray(c_valid)\n",
        "np.save('/datasets/c_trainTIME_TEST.npy',c_train)\n",
        "np.save('/datasets/c_validTIME_TEST.npy',c_valid)\n",
        "print(c_train.shape,c_valid.shape)\n",
        "\n",
        "'''\n",
        "q_train = []\n",
        "q_valid = []\n",
        "q_train = np.asarray(q_train)\n",
        "q_valid = np.asarray(q_valid)\n",
        "#np.save('/datasets/q_trainTIME_TEST.npy',q_train)\n",
        "#np.save('/datasets/q_validTIME_TEST.npy',q_valid)\n",
        "np.save('/datasets/q_trainTIME_TEST_kernel2.npy',q_train)\n",
        "np.save('/datasets/q_validTIME_TEST_kernel2.npy',q_valid)\n",
        "print(q_train.shape,q_valid.shape)\n",
        "'''\n",
        "\n",
        "start = ti.time()\n",
        "\n",
        "while(END<=50):\n",
        "    #q_train, q_valid = gen_quanv(x_train[START:END,:,:,:], x_valid[START:END,:,:,:], kr)\n",
        "    c_train, c_valid = gen_conv(x_train[START:END,:,:,:], x_valid[START:END,:,:,:], kr)\n",
        "    print()\n",
        "    #print(q_train.shape,q_valid.shape)\n",
        "    print(c_train.shape,c_valid.shape)\n",
        "    #START = q_valid.shape[0]\n",
        "    START = c_train.shape[0]\n",
        "    END = START+10\n",
        "    #END = 10001\n",
        "\n",
        "spent = ti.time() - start\n",
        "print('time spent',spent)"
      ]
    },
    {
      "cell_type": "markdown",
      "metadata": {
        "id": "s_0i1BEaDahq"
      },
      "source": [
        "# 16. Functions to load premade datasets"
      ]
    },
    {
      "cell_type": "code",
      "execution_count": null,
      "metadata": {
        "id": "IaCA09xCUKQB"
      },
      "outputs": [],
      "source": [
        "import numpy as np\n",
        "\n",
        "# Datasets with full Mel spectrogram window\n",
        "def time_tests():\n",
        "    x_train = np.load('/datasets/x_trainFULL.npy')\n",
        "    x_valid = np.load('/datasets/x_validFULL.npy')\n",
        "    c_train = np.load('/datasets/c_trainTIME_TEST.npy')\n",
        "    c_valid = np.load('/datasets/c_validTIME_TEST.npy')\n",
        "    q_train = np.load('/datasets/q_trainTIME_TEST.npy')\n",
        "    q_valid = np.load('/datasets/q_validTIME_TEST.npy')\n",
        "    q_train2 = np.load('/datasets/q_trainTIME_TEST_kernel2.npy')\n",
        "    q_valid2 = np.load('/datasets/q_validTIME_TEST_kernel2.npy')\n",
        "    y_train = np.load('/datasets/y_trainFULL.npy')\n",
        "    y_valid = np.load('/datasets/y_validFULL.npy')\n",
        "\n",
        "    return x_train[0:50,:,:,:],x_valid[0:50,:,:,:],c_train,c_valid,q_train,q_valid,q_train2,q_valid2,y_train[0:50,:],y_valid[0:50,:]\n",
        "\n",
        "def reduced():\n",
        "    x_train = np.load('/datasets/x_trainREDUCED.npy')\n",
        "    x_valid = np.load('/datasets/x_validREDUCED.npy')\n",
        "    q_train = np.load('/datasets/q_trainREDUCED.npy')\n",
        "    q_valid = np.load('/datasets/q_validREDUCED.npy')\n",
        "    y_train = np.load('/datasets/y_trainREDUCED.npy')\n",
        "    y_valid = np.load('/datasets/y_validREDUCED.npy')\n",
        "\n",
        "    return x_train,x_valid,q_train,q_valid,y_train,y_valid\n",
        "\n",
        "def full_window():\n",
        "    x_train = np.load('/datasets/x_trainFULL.npy')\n",
        "    x_valid = np.load('/datasets/x_validFULL.npy')\n",
        "    q_train = np.load('/datasets/q_trainFULL.npy')\n",
        "    q_valid = np.load('/datasets/q_validFULL.npy')\n",
        "    y_train = np.load('/datasets/y_trainFULL.npy')\n",
        "    y_valid = np.load('/datasets/y_validFULL.npy')\n",
        "\n",
        "    return x_train,x_valid,q_train,q_valid,y_train,y_valid\n",
        "\n",
        "\n",
        "# Datasets with smaller Mel spectrogram window\n",
        "def smaller_window():\n",
        "    q_train = np.load('/datasets/q_train.npy')\n",
        "    q_valid = np.load('/datasets/q_valid.npy')\n",
        "    x_train = np.load('/datasets/x_train.npy')\n",
        "    x_valid = np.load('/datasets/x_valid.npy')\n",
        "    y_train = np.load('/datasets/y_train.npy')\n",
        "    y_valid = np.load('/datasets/y_valid.npy')\n",
        "\n",
        "    return x_train,x_valid,q_train,q_valid,y_train,y_valid\n",
        "\n",
        "\n",
        "# Datasets with equalized distribution. 134 samples / class\n",
        "def equalized():\n",
        "    equal_q_train = np.load('/datasets/equal_q_train.npy')\n",
        "    equal_q_valid = np.load('/datasets/equal_q_valid.npy')\n",
        "    equal_x_train = np.load('/datasets/equal_x_train.npy')\n",
        "    equal_x_valid = np.load('/datasets/equal_x_valid.npy')\n",
        "    equal_y_train = np.load('/datasets/equal_y_train.npy')\n",
        "    equal_y_valid = np.load('/datasets/equal_y_valid.npy')\n",
        "\n",
        "    return equal_x_train,equal_x_valid,equal_q_train,equal_q_valid,equal_y_train,equal_y_valid\n",
        "\n",
        "# Datasets with classical convolution\n",
        "def classic_conv():\n",
        "    c_train = np.load('/datasets/c_train.npy')\n",
        "    c_valid = np.load('/datasets/c_valid.npy')\n",
        "    q_train = np.load('/datasets/q_trainFULL_ALTKERN.npy')\n",
        "    q_valid = np.load('/datasets/q_validFULL_ALTKERN.npy')\n",
        "    y_train = np.load('/datasets/y_trainFULL.npy')\n",
        "    y_valid = np.load('/datasets/y_validFULL.npy')\n",
        "\n",
        "    return c_train,c_valid,q_train,q_valid,y_train,y_valid\n",
        "\n",
        "#x_train,x_valid,q_train,q_valid,y_train,y_valid = full_window()\n",
        "#x_train,x_valid,q_train,q_valid,y_train,y_valid = classic_conv()\n",
        "#x_train,x_valid,q_train,q_valid,y_train,y_valid = smaller_window()\n",
        "#x_train,x_valid,q_train,q_valid,y_train,y_valid = equalized()\n",
        "#x_train,x_valid,c_train,c_valid,q_train,q_valid,q_train2,q_valid2,y_train,y_valid = time_tests()\n",
        "x_train,x_valid,q_train,q_valid,y_train,y_valid = reduced()\n"
      ]
    },
    {
      "cell_type": "markdown",
      "metadata": {
        "id": "siKL6qbKZzaq"
      },
      "source": [
        "# 17. Function to reduce number of classes"
      ]
    },
    {
      "cell_type": "code",
      "execution_count": null,
      "metadata": {
        "id": "c5V2gL7vZyfT"
      },
      "outputs": [],
      "source": [
        "def reduce_labels(xs,qs,ys,to_drop):\n",
        "    new_x=[]\n",
        "    new_q=[]\n",
        "    new_y=[]\n",
        "    to_keep = []\n",
        "    for name in labels:\n",
        "        if name not in to_drop:\n",
        "            idx = label_to_index(name)\n",
        "            to_keep.append(idx)\n",
        "    for x,q,y in zip(xs,qs,ys):\n",
        "        idx = np.where(y == 1)\n",
        "        name = index_to_label(idx[0][0])\n",
        "        if name not in to_drop:\n",
        "            new_x.append(x)\n",
        "            new_q.append(q)\n",
        "            new_y.append(y)\n",
        "        \n",
        "    new_y = np.array(new_y)\n",
        "    new_y = new_y[:,to_keep]\n",
        "    return np.array(new_x),np.array(new_q),new_y"
      ]
    },
    {
      "cell_type": "markdown",
      "metadata": {
        "id": "P_5VJ3nMDV7t"
      },
      "source": [
        "# 18. Print label distribution"
      ]
    },
    {
      "cell_type": "code",
      "execution_count": null,
      "metadata": {
        "id": "doqoH9mgObim"
      },
      "outputs": [],
      "source": [
        "print(len(labels))\n",
        "print(labels)\n",
        "print(np.sum(y_train,axis=0))\n",
        "print(np.sum(y_valid,axis=0))"
      ]
    },
    {
      "cell_type": "markdown",
      "metadata": {
        "id": "0zwTJHKUER4G"
      },
      "source": [
        "# 19. Reduce number of datapoints to make equally distributed dataset"
      ]
    },
    {
      "cell_type": "code",
      "execution_count": null,
      "metadata": {
        "id": "2aU1lrDPc9sW"
      },
      "outputs": [],
      "source": [
        "amount = 134\n",
        "x_train, q_train, y_train = reduce_data(x_train, q_train, y_train, amount)\n",
        "x_valid, q_valid, y_valid = reduce_data(x_valid, q_valid, y_valid, amount)"
      ]
    },
    {
      "cell_type": "markdown",
      "metadata": {
        "id": "_eeUMlMLkvFy"
      },
      "source": [
        "# 20. Training function"
      ]
    },
    {
      "cell_type": "code",
      "execution_count": null,
      "metadata": {
        "id": "gfJn95VC0b6W"
      },
      "outputs": [],
      "source": [
        "def fit_model(model,trainx,trainy,valx,valy,check):\n",
        "    history = model.fit(\n",
        "        x=trainx, \n",
        "        y=trainy[0:trainx.shape[0],:],\n",
        "        epochs=EPOCHS, \n",
        "        callbacks=[check], \n",
        "        batch_size=BATCH_SIZE, \n",
        "        validation_data=(valx,valy[0:valx.shape[0],:])\n",
        "    )\n",
        "\n",
        "    return history\n",
        "\n",
        "## For Quanv Exp.\n",
        "early_stop = EarlyStopping(monitor='val_loss', mode='min', \n",
        "                           verbose=1, patience=10, min_delta=0.0001)\n",
        "\n",
        "checkpoint = ModelCheckpoint('/some_models/best_classic_reduced.hdf5', monitor='val_accuracy', \n",
        "                             verbose=1, save_best_only=True, mode='max')\n",
        "\n",
        "qcnn_checkpoint = ModelCheckpoint('/some_models/best_qcnn_reduced.hdf5', monitor='val_accuracy', \n",
        "                             verbose=1, save_best_only=True, mode='max')\n",
        "'''\n",
        "qcnn_kernel2_checkpoint = ModelCheckpoint('/some_models/best_qcnn_kernel2_time_test.hdf5', monitor='val_accuracy', \n",
        "                             verbose=1, save_best_only=True, mode='max')\n",
        "\n",
        "conv_checkpoint = ModelCheckpoint('/some_models/best_conv_time_test.hdf5', monitor='val_accuracy', \n",
        "                             verbose=1, save_best_only=True, mode='max')\n",
        "'''"
      ]
    },
    {
      "cell_type": "markdown",
      "metadata": {
        "id": "RGel9ujC_o3L"
      },
      "source": [
        "# 21. Make results persistent"
      ]
    },
    {
      "cell_type": "code",
      "execution_count": null,
      "metadata": {
        "id": "bge4VlvI_ejX"
      },
      "outputs": [],
      "source": [
        "seed = 1337       #0.9236871004104614 / 0.9225929975509644\n",
        "#seed = 42        #0.9280634522438049 / 0.8864879608154297\n",
        "#seed = 70770     #92.7 / 91.3\n",
        "#seed = 70110     #89.6 / 90.2\n",
        "#seed = 7734      #0.916301965713501 / 0.937089741230011\n",
        "#seed = 1234      #93.5 / 90.8\n",
        "#seed = 4321      #94.3 / 92.5\n",
        "#seed = 2022      #93.3 / 89.7\n",
        "#seed = 4851      #0.9149343371391296 / 0.908369779586792\n",
        "#seed = 6817      #0.9070022106170654 / 0.912472665309906\n",
        "#seed = 2580      #0.9368162155151367 / 0.9239606261253357\n",
        "#seed = 9630      #0.8998906016349792 / 0.9217724204063416\n",
        "#seed = 777       #0.9376367330551147 / 0.9171225428581238\n",
        "#seed = 9154      #0.9392778873443604 / 0.908369779586792\n",
        "#seed = 1         #0.9373632669448853 / 0.9141137599945068\n",
        "#seed = 9999      #0.9261487722396851 / 0.886761486530304\n",
        "#seed = 6161      #0.9318927526473999 / 0.8894967436790466\n",
        "#seed = 8723654   #0.9138402342796326 / 0.8998906016349792\n",
        "#seed = 6548      #0.9275164008140564 / 0.9119256138801575\n",
        "#seed = 43        #0.9321662783622742 / 0.9031728506088257\n",
        "#seed = 3310      #0.925328254699707 / 0.9132932424545288\n",
        "#seed = 315       #0.904540479183197 / 0.9018052220344543\n",
        "#seed = 78857676  #0.9217724204063416 / 0.9165754914283752\n",
        "\n",
        "os.environ['PYTHONHASHSEED'] = str(seed)\n",
        "random.seed(seed)\n",
        "np.random.seed(seed)\n",
        "set_random_seed(seed)\n",
        "set_seed(seed)"
      ]
    },
    {
      "cell_type": "markdown",
      "metadata": {
        "id": "LbfkJBZa7Ohm"
      },
      "source": [
        "#22. Training of normal models"
      ]
    },
    {
      "cell_type": "code",
      "execution_count": null,
      "metadata": {
        "colab": {
          "background_save": true
        },
        "id": "xsrqAsilklaR"
      },
      "outputs": [],
      "source": [
        "print('Dataset sizes: ',q_train.shape, q_valid.shape)\n",
        "\n",
        "EPOCHS = 30\n",
        "BATCH_SIZE = 16\n",
        "\n",
        "model = attrnn_Model(x_train[0], y_train[0], False, 64, 1)\n",
        "model.summary()\n",
        "classic_hist = fit_model(model,x_train[0:q_train.shape[0],:,:,:],y_train[0:q_train.shape[0],:],x_valid[0:q_valid.shape[0],:,:,:],y_valid[0:q_valid.shape[0],:],checkpoint)\n",
        "\n",
        "model = attrnn_Model(q_train[0], y_train[0], False, 64, 1)\n",
        "model.summary()\n",
        "qcnn_hist = fit_model(model,q_train,y_train,q_valid,y_valid,qcnn_checkpoint)\n",
        "\n",
        "\n",
        "#np.save('/training_histories/classic_histFULL.npy', classic_hist.history)     #OK\n",
        "#np.save('/training_histories/qcnn_histFULL_ALTKERN.npy', qcnn_hist.history)   #OK\n",
        "#np.save('/training_histories/cconv_histFULL.npy', classic_hist.history)       #OK\n",
        "#np.save('/training_histories/qcnn_histFULL.npy', qcnn_hist.history)           #OK\n",
        "#np.save('/training_histories/classic_hist.npy', classic_hist.history)         #OK\n",
        "#np.save('/training_histories/qcnn_hist.npy', qcnn_hist.history)               #OK\n",
        "#np.save('/training_histories/cconv_hist.npy', classic_hist.history)           #OK\n",
        "#np.save('/training_histories/classic_histTENCLASS.npy', classic_hist.history) #OK\n",
        "#np.save('/training_histories/qcnn_histTENCLASS.npy', qcnn_hist.history)       #OK"
      ]
    },
    {
      "cell_type": "markdown",
      "metadata": {
        "id": "CRND6mGJjbIG"
      },
      "source": [
        "# 23. Timing of models"
      ]
    },
    {
      "cell_type": "code",
      "execution_count": null,
      "metadata": {
        "id": "Z26dx2AmjZTP"
      },
      "outputs": [],
      "source": [
        "print('Dataset sizes: ',q_train.shape, q_valid.shape)\n",
        "\n",
        "EPOCHS = 30\n",
        "BATCH_SIZE = 16\n",
        "times = []\n",
        "start = ti.time()\n",
        "\n",
        "model = attrnn_Model(x_train[0], labels, False, 64, 1)\n",
        "model.summary()\n",
        "classic_hist = fit_model(model,x_train,y_train,x_valid,y_valid,checkpoint)\n",
        "times.append(ti.time() - start)\n",
        "\n",
        "start = ti.time()\n",
        "model = attrnn_Model(q_train[0], labels, False, 64, 1)\n",
        "model.summary()\n",
        "qcnn_hist = fit_model(model,q_train,y_train,q_valid,y_valid,qcnn_checkpoint)\n",
        "times.append(ti.time() - start)\n",
        "\n",
        "start = ti.time()\n",
        "model = attrnn_Model(q_train2[0], labels, False, 64, 1)\n",
        "model.summary()\n",
        "qcnn2_hist = fit_model(model,q_train2,y_train,q_valid2,y_valid,qcnn_kernel2_checkpoint)\n",
        "times.append(ti.time() - start)\n",
        "\n",
        "start = ti.time()\n",
        "model = attrnn_Model(c_train[0], labels, False, 64, 1)\n",
        "model.summary()\n",
        "conv_hist = fit_model(model,c_train,y_train,c_valid,y_valid,conv_checkpoint)\n",
        "times.append(ti.time() - start)\n",
        "\n",
        "print(times)\n",
        "np.save('/training_histories/classic_hist_timed.npy', classic_hist.history)               #OK\n",
        "np.save('/training_histories/qcnn_hist_timed.npy', qcnn_hist.history)           #OK\n",
        "np.save('/training_histories/qcnn2_hist_timed.npy', qcnn2_hist.history) #OK\n",
        "np.save('/training_histories/conv_hist_timed.npy', conv_hist.history)       #OK"
      ]
    },
    {
      "cell_type": "code",
      "execution_count": null,
      "metadata": {
        "id": "QLmAqUkMned-"
      },
      "outputs": [],
      "source": [
        "classic_model = load_model('/some_models/best_classic_time_test.hdf5')\n",
        "qcnn_model = load_model('/some_models/best_qcnn_time_test.hdf5')\n",
        "qcnn2_model = load_model('/some_models/best_qcnn_kernel2_time_test.hdf5')\n",
        "conv_model = load_model('/some_models/best_conv_time_test.hdf5')\n",
        "\n",
        "times = []\n",
        "start = ti.time()\n",
        "classic_predict = classic_model.predict(x_valid,16)\n",
        "times.append(ti.time() - start)\n",
        "\n",
        "start = ti.time()\n",
        "qcnn_predict = qcnn_model.predict(q_valid,16)\n",
        "times.append(ti.time() - start)\n",
        "\n",
        "start = ti.time()\n",
        "qcnn2_predict = qcnn2_model.predict(q_valid2,16)\n",
        "times.append(ti.time() - start)\n",
        "\n",
        "start = ti.time()\n",
        "conv_predict = conv_model.predict(c_valid,16)\n",
        "times.append(ti.time() - start)\n",
        "\n",
        "print(times)"
      ]
    },
    {
      "cell_type": "markdown",
      "metadata": {
        "id": "2xXkRbA7ojfJ"
      },
      "source": [
        "# 24. Create confusion matrix"
      ]
    },
    {
      "cell_type": "code",
      "execution_count": null,
      "metadata": {
        "id": "A7jBXj9Blisa"
      },
      "outputs": [],
      "source": [
        "def conf(yarr,predarr):\n",
        "    conf_matrix = [[0 for i in range(yarr.shape[1])] for j in range(predarr.shape[1])]\n",
        "    for y,pred in zip(yarr,predarr):\n",
        "        max_y = max(y)\n",
        "        max_pred = max(pred)\n",
        "        idx_y = np.where(y == max_y)[0][0]\n",
        "        idx_pred = np.where(pred == max_pred)[0][0]\n",
        "        conf_matrix[idx_y][idx_pred] += 1\n",
        "    \n",
        "    return conf_matrix    \n",
        "\n",
        "def get_predictions(model,data):\n",
        "    predict = model.predict(data,16)\n",
        "    \n",
        "    return predict\n",
        "    \n",
        "def get_df(matrix, labels):\n",
        "    df = pd.DataFrame(matrix, index = [i for i in labels],columns = [i for i in labels])\n",
        "    \n",
        "    return df\n",
        "\n",
        "def plot_heatmap(df,title):\n",
        "    plt.figure(figsize = (20,10))\n",
        "    sn.heatmap(df, annot=True, fmt='g')\n",
        "    plt.title(title)\n",
        "    plt.show()\n",
        "\n",
        "classic_model = load_model('/some_models/best_classic_reduced.hdf5')\n",
        "qcnn_model = load_model('/some_models/best_qcnn_reduced.hdf5')\n",
        "\n",
        "classic_predict = get_predictions(classic_model,x_valid)\n",
        "qcnn_predict = get_predictions(qcnn_model,q_valid)\n",
        "\n",
        "classic_conf_matrix = conf(y_valid,classic_predict)\n",
        "qcnn_conf_matrix = conf(y_valid,qcnn_predict)\n",
        "\n",
        "df_classic = get_df(classic_conf_matrix,labels)\n",
        "df_qcnn = get_df(qcnn_conf_matrix,labels)\n",
        "\n",
        "print(classic_conf_matrix)\n",
        "print(qcnn_conf_matrix)\n"
      ]
    },
    {
      "cell_type": "code",
      "execution_count": null,
      "metadata": {
        "colab": {
          "background_save": true
        },
        "id": "nKsYvvQn2xmG"
      },
      "outputs": [],
      "source": [
        "plot_heatmap(df_classic,'Classic')"
      ]
    },
    {
      "cell_type": "code",
      "execution_count": null,
      "metadata": {
        "id": "bZ8wHbnw20k3"
      },
      "outputs": [],
      "source": [
        "plot_heatmap(df_qcnn,'Quanvolved')"
      ]
    },
    {
      "cell_type": "code",
      "execution_count": null,
      "metadata": {
        "id": "zGJ8OhHXpBwc"
      },
      "outputs": [],
      "source": [
        "diagonal = np.diag(classic_conf_matrix)\n",
        "qdiagonal = np.diag(qcnn_conf_matrix)\n",
        "\n",
        "column_sums = np.sum(classic_conf_matrix, axis=0)\n",
        "row_sums = np.sum(classic_conf_matrix, axis=1)\n",
        "qcolumn_sums = np.sum(qcnn_conf_matrix, axis=0)\n",
        "qrow_sums = np.sum(qcnn_conf_matrix, axis=1)\n",
        "\n",
        "column_sums -= diagonal\n",
        "row_sums -= diagonal\n",
        "qcolumn_sums -= qdiagonal\n",
        "qrow_sums -= qdiagonal\n",
        "\n",
        "print('Classic false positive',column_sums,sum(column_sums))\n",
        "print('Quantum false positive',qcolumn_sums,sum(qcolumn_sums))\n",
        "print('Combined false positives',column_sums+qcolumn_sums)\n",
        "\n",
        "cerrors = column_sums+row_sums\n",
        "ctotal = column_sums+row_sums+diagonal\n",
        "qerrors = qcolumn_sums+qrow_sums\n",
        "qtotal = qcolumn_sums+qrow_sums+qdiagonal\n",
        "\n",
        "total_errors = (cerrors+qerrors) / (cerrors+qerrors+ctotal+qtotal)\n",
        "min_error = min(total_errors)\n",
        "min_id = np.where(total_errors == min_error)[0][0]\n",
        "\n",
        "to_drop = [labels[min_id]]\n",
        "new_labels = []\n",
        "for lbl in labels:\n",
        "  if lbl not in to_drop:\n",
        "    new_labels.append(lbl)\n",
        "\n",
        "new_labels = np.array(new_labels)\n",
        "np.save('/datasets/new_labels', new_labels)\n",
        "\n",
        "\n",
        "x_train, q_train, y_train = reduce_labels(x_train, q_train, y_train, to_drop)\n",
        "x_valid, q_valid, y_valid = reduce_labels(x_valid, q_valid, y_valid, to_drop)\n",
        "\n",
        "np.save('/datasets/x_trainREDUCED.npy', x_train)\n",
        "np.save('/datasets/x_validREDUCED.npy', x_valid)\n",
        "np.save('/datasets/q_trainREDUCED.npy', q_train)\n",
        "np.save('/datasets/q_validREDUCED.npy', q_valid)\n",
        "np.save('/datasets/y_trainREDUCED.npy', y_train)\n",
        "np.save('/datasets/y_validREDUCED.npy', y_valid)"
      ]
    },
    {
      "cell_type": "code",
      "execution_count": null,
      "metadata": {
        "id": "H-iArju_CqC0"
      },
      "outputs": [],
      "source": [
        "print(to_drop)"
      ]
    },
    {
      "cell_type": "code",
      "execution_count": null,
      "metadata": {
        "id": "9YhOKGRR1zHs"
      },
      "outputs": [],
      "source": [
        "save = {}\n",
        "commands = len(labels)\n",
        "save['commands'] = commands\n",
        "save['classic_max'] = max(classic_hist.history['val_accuracy'])\n",
        "save['qcnn_max'] = max(qcnn_hist.history['val_accuracy'])\n",
        "save[f'classic_{commands}'] = classic_conf_matrix\n",
        "save[f'qcnn_{commands}'] = qcnn_conf_matrix\n",
        "save['to_drop'] = to_drop\n",
        "np.save(f'/label_reduce_results/{commands}_tot_err.npy', save)"
      ]
    },
    {
      "cell_type": "markdown",
      "metadata": {
        "id": "VsX_ND0QQ8Ie"
      },
      "source": [
        "# 25. Plot normal model training loss and accuracy"
      ]
    },
    {
      "cell_type": "code",
      "execution_count": null,
      "metadata": {
        "id": "4Az9WNWw_a6e"
      },
      "outputs": [],
      "source": [
        "#Load saved training histories\n",
        "import numpy as np\n",
        "classic_hist = np.load('/datasets/classic_histTENCLASS.npy',allow_pickle='TRUE').item()\n",
        "qcnn_hist = np.load('/datasets/qcnn_histTENCLASS.npy',allow_pickle='TRUE').item()"
      ]
    },
    {
      "cell_type": "code",
      "execution_count": null,
      "metadata": {
        "id": "xg-u5rM1Q_Le"
      },
      "outputs": [],
      "source": [
        "data_ix = ti.strftime(\"%m%d_%H%M\")\n",
        "linestyle_arr = ['solid', 'dotted', 'dashed', 'dashdot', (0, (3, 5, 1, 5, 1, 5))]\n",
        "\n",
        "def plot_acc_loss(points, x_history, q_history, data_ix, x_label, q_label):\n",
        "    plt.figure()\n",
        "    plt.style.use(\"seaborn\")\n",
        "    fig, (ax1, ax2) = plt.subplots(2, 1, figsize=(6, 9))\n",
        "\n",
        "    ax1.plot(q_history[\"val_accuracy\"], linestyle=linestyle_arr[0], linewidth=1.5, color='b', label=q_label)\n",
        "    ax1.plot(x_history[\"val_accuracy\"], linestyle=linestyle_arr[1], linewidth=1.5, color='g', label=x_label)\n",
        "    ax1.set_ylabel(\"Accuracy\")\n",
        "    ax1.set_ylim([0, 1])\n",
        "    ax1.set_xlabel(\"Epoch\")\n",
        "    ax1.legend()\n",
        "\n",
        "    ax2.plot(q_history[\"val_loss\"], linestyle=linestyle_arr[0], linewidth=1.5, color='b', label=q_label)\n",
        "    ax2.plot(x_history[\"val_loss\"], linestyle=linestyle_arr[1], linewidth=1.5, color='g', label=x_label)\n",
        "    ax2.set_ylabel(\"Loss\")\n",
        "    ax2.set_xlabel(\"Epoch\")\n",
        "    ax2.legend()\n",
        "    plt.title('Number of datapoints: '+str(points))\n",
        "    plt.tight_layout()\n",
        "    plt.savefig(\"/Old_plots/\"+ data_ix +\"_conv_speech_loss.png\")\n",
        "\n",
        "def show_speech(x_train, q_train, use_ch):\n",
        "    plt.figure()\n",
        "    plt.subplot(5, 1, 1)\n",
        "    if use_ch != True:\n",
        "        librosa.display.specshow(librosa.power_to_db(x_train[7088,:,:,0], ref=np.max))\n",
        "    else:\n",
        "        librosa.display.specshow(librosa.power_to_db(x_train[0,:,:], ref=np.max))\n",
        "    plt.title('Input Speech')\n",
        "\n",
        "    for i in range(4):\n",
        "        plt.subplot(5, 1, i+2)\n",
        "        librosa.display.specshow(librosa.power_to_db(q_train[7088,:,:,i], ref=np.max))\n",
        "        plt.title('Channel '+str(i+1)+': Quantum Compressed Speech')\n",
        "\n",
        "    plt.tight_layout()\n",
        "    plt.savefig(\"/Old_plots/speech_encoder_\" + data_ix + \".png\")\n",
        "\n",
        "# Set legends for plot\n",
        "x_label = \"Attn-BiLSTM without Quanv Layer\"\n",
        "q_label = \"Attn-BiLSTM with Quanv Layer\"\n",
        "\n",
        "plot_acc_loss(10000,classic_hist.history, qcnn_hist.history, data_ix, x_label, q_label)\n",
        "#show_speech(x_train,q_train, False)"
      ]
    },
    {
      "cell_type": "markdown",
      "metadata": {
        "id": "jhDRecBbD1ES"
      },
      "source": [
        "# 26. Print max and mean validation accuracies"
      ]
    },
    {
      "cell_type": "code",
      "execution_count": null,
      "metadata": {
        "id": "Ggh_BgKY2Sym"
      },
      "outputs": [],
      "source": [
        "from scipy import stats\n",
        "print('Max acc classic:',np.max(classic_hist.history[\"val_accuracy\"]))\n",
        "print('Avg acc classic:',np.average(classic_hist.history[\"val_accuracy\"]))\n",
        "print('Standard error of the mean:',stats.sem(classic_hist.history[\"val_accuracy\"]))\n",
        "print('Max acc quantum:',np.max(qcnn_hist.history[\"val_accuracy\"]))\n",
        "print('Avg acc quantum:',np.average(qcnn_hist.history[\"val_accuracy\"]))\n",
        "print('Standard error of the mean:',stats.sem(qcnn_hist.history[\"val_accuracy\"]))"
      ]
    },
    {
      "cell_type": "markdown",
      "metadata": {
        "id": "ozBFU7yVqZQJ"
      },
      "source": [
        "# 27. Function to reduce data points"
      ]
    },
    {
      "cell_type": "code",
      "execution_count": null,
      "metadata": {
        "id": "oQZAT2yvimQY"
      },
      "outputs": [],
      "source": [
        "def reduce_data(x,q,y,to_amount):\n",
        "    label_dict = {'backward':0, 'bed':0, 'bird':0, 'cat':0, 'dog':0, 'down':0, 'eight':0, 'five':0, 'follow':0, 'forward':0, 'four':0, 'go':0, 'happy':0, 'house':0, 'learn':0, 'left':0, 'marvin':0, 'nine':0, 'no':0, 'off':0, 'on':0, 'one':0, 'right':0, 'seven':0, 'sheila':0, 'six':0, 'stop':0, 'three':0, 'tree':0, 'two':0, 'up':0, 'visual':0, 'wow':0, 'yes':0, 'zero':0}\n",
        "    ret_x = []\n",
        "    ret_q = []\n",
        "    ret_y = []\n",
        "    for classic, quantum, lbl in zip(x,q,y):\n",
        "      idx = np.where(lbl == 1)\n",
        "      name = index_to_label(idx[0][0])\n",
        "      amount = label_dict[name]\n",
        "      if amount < to_amount:\n",
        "        ret_x.append(classic)\n",
        "        ret_q.append(quantum)\n",
        "        ret_y.append(lbl)\n",
        "        label_dict[name] += 1\n",
        "\n",
        "    return np.array(ret_x), np.array(ret_q), np.array(ret_y)"
      ]
    },
    {
      "cell_type": "markdown",
      "metadata": {
        "id": "rAuNRS6YCeJo"
      },
      "source": [
        "# 28. Equalize dataset and introduce some helper variables"
      ]
    },
    {
      "cell_type": "code",
      "execution_count": null,
      "metadata": {
        "id": "iTycCemGCctr"
      },
      "outputs": [],
      "source": [
        "x_train = x_train[0:q_train.shape[0],:,:,:]\n",
        "y_train = y_train[0:q_train.shape[0],:]\n",
        "x_valid = x_valid[0:q_valid.shape[0],:,:,:]\n",
        "y_valid = y_valid[0:q_valid.shape[0],:]\n",
        "ind = 0\n",
        "EPOCHS = 30\n",
        "BATCH_SIZE = 16"
      ]
    },
    {
      "cell_type": "markdown",
      "metadata": {
        "id": "G79NduKY1Am4"
      },
      "source": [
        "# 29. Training models with reduced datapoints"
      ]
    },
    {
      "cell_type": "code",
      "execution_count": null,
      "metadata": {
        "id": "NrWvkPbGqhmx"
      },
      "outputs": [],
      "source": [
        "amount = 22\n",
        "div = 1\n",
        "xtrain, qtrain, ytrain = reduce_data(x_train, q_train, y_train, amount)\n",
        "\n",
        "model = attrnn_Model(xtrain[0], labels, False, 64, div)\n",
        "classic_hist = fit_model(model,xtrain,ytrain,x_valid,y_valid,checkpoint).history\n",
        "\n",
        "model = attrnn_Model(qtrain[0], labels, False, 64, div)\n",
        "qcnn_hist = fit_model(model,qtrain,ytrain,q_valid,y_valid,qcnn_checkpoint).history\n",
        "\n",
        "np.save(f\"/datasets/classic_hist_{amount}_DATA_REDUCE_FULL.npy\", classic_hist)\n",
        "np.save(f\"/datasets/qcnn_hist_{amount}_DATA_REDUCE_FULL.npy\", qcnn_hist)"
      ]
    },
    {
      "cell_type": "markdown",
      "metadata": {
        "id": "yKx6rftF1JiX"
      },
      "source": [
        "# 30. Plotting results from data reduced model"
      ]
    },
    {
      "cell_type": "code",
      "execution_count": null,
      "metadata": {
        "id": "3R6v8Wpc1OL_"
      },
      "outputs": [],
      "source": [
        "data_ix = ti.strftime(\"%m%d_%H%M\")\n",
        "linestyle_arr = ['solid', 'dotted', 'dashed', 'dashdot', (0, (3, 5, 1, 5, 1, 5))]\n",
        "color = ['b','g','r','c','m','y','k']\n",
        "\n",
        "def plot_acc_loss(points, x_history_arr, q_history_arr, data_ix, x_label, q_label):\n",
        "    plt.figure()\n",
        "    plt.style.use(\"seaborn\")\n",
        "    fig, ((ax1, ax2), (ax3, ax4)) = plt.subplots(2, 2, figsize=(12, 9))\n",
        "\n",
        "    for x_history, q_history, data, linestyle,col in zip(x_history_arr, q_history_arr, points, linestyle_arr,color):\n",
        "        ax1.plot(x_history[\"val_accuracy\"], linestyle=linestyle, linewidth=1.5, color=col, label='Number of datapoints '+str(data))\n",
        "        ax1.set_title(x_label)\n",
        "        ax1.set_ylabel(\"Accuracy\")\n",
        "        ax1.set_ylim([0, 1])\n",
        "        ax1.set_xlabel(\"Epoch\")\n",
        "        ax1.legend()\n",
        "        \n",
        "        ax2.plot(q_history[\"val_accuracy\"], linestyle=linestyle, linewidth=1.5, color=col, label='Number of datapoints '+str(data))\n",
        "        ax2.set_title(q_label)\n",
        "        ax2.set_ylabel(\"Accuracy\")\n",
        "        ax2.set_ylim([0, 1])\n",
        "        ax2.set_xlabel(\"Epoch\")\n",
        "        ax2.legend()\n",
        "\n",
        "        ax3.plot(x_history[\"val_loss\"], linestyle=linestyle, linewidth=1.5, color=col, label='Number of datapoints '+str(data))\n",
        "        ax3.set_ylabel(\"Loss\")\n",
        "        ax3.set_ylim([0, 8])\n",
        "        ax3.set_xlabel(\"Epoch\")\n",
        "        ax3.legend()\n",
        "        \n",
        "        ax4.plot(q_history[\"val_loss\"], linestyle=linestyle, linewidth=1.5, color=col, label='Number of datapoints '+str(data))\n",
        "        ax4.set_ylabel(\"Loss\")\n",
        "        ax4.set_ylim([0, 8])\n",
        "        ax4.set_xlabel(\"Epoch\")\n",
        "        ax4.legend()\n",
        "\n",
        "    plt.title('Training models and reducing number of datapoints')\n",
        "    plt.tight_layout()\n",
        "    plt.savefig(\"/Old_plots/\"+ data_ix +\"_conv_speech_loss.png\")\n",
        "\n",
        "x_label = \"Attn-BiLSTM without Quanv Layer\"\n",
        "q_label = \"Attn-BiLSTM with Quanv Layer\"\n",
        "\n",
        "plot_acc_loss(data_size, classic_hist_arr, qcnn_hist_arr, data_ix, x_label, q_label)"
      ]
    },
    {
      "cell_type": "markdown",
      "metadata": {
        "id": "rhx0kPefCPm6"
      },
      "source": [
        "# 31. Train models while reducing model parameters"
      ]
    },
    {
      "cell_type": "code",
      "execution_count": null,
      "metadata": {
        "id": "SFqH0vnrCMET"
      },
      "outputs": [],
      "source": [
        "div_arr = [2,4,8,12,16]\n",
        "div = 16\n",
        "\n",
        "model = attrnn_Model(x_train[0], labels, False, 47, div)\n",
        "model.summary()\n",
        "\n",
        "classic_hist = fit_model(model,x_train,y_train,x_valid,y_valid,checkpoint).history\n",
        "classic_weights = count_params(model.trainable_weights)\n",
        "\n",
        "model = attrnn_Model(q_train[0], labels, False, 64, div)\n",
        "model.summary()\n",
        "\n",
        "qcnn_hist = fit_model(model,q_train,y_train,q_valid,y_valid,qcnn_checkpoint).history\n",
        "qcnn_weights = count_params(model.trainable_weights)\n",
        "\n",
        "np.save(f\"/datasets/classic_hist_{classic_weights}_PARAM_REDUCE_FULL.npy\", classic_hist)\n",
        "np.save(f\"/datasets/qcnn_hist_{qcnn_weights}_PARAM_REDUCE_FULL.npy\", qcnn_hist)"
      ]
    },
    {
      "cell_type": "markdown",
      "metadata": {
        "id": "YEE72G3zDOH4"
      },
      "source": [
        "# 32. Plotting data from parameter reduced model"
      ]
    },
    {
      "cell_type": "code",
      "execution_count": null,
      "metadata": {
        "id": "smkBH1zADLzy"
      },
      "outputs": [],
      "source": [
        "data_ix = ti.strftime(\"%m%d_%H%M\")\n",
        "linestyle_arr = ['solid', 'dotted', 'dashed', 'dashdot', (0, (3, 5, 1, 5, 1, 5)))]\n",
        "color = ['b','g','r','c','m','y','k']\n",
        "def plot_acc_loss(cpoints, qpoints, x_history_arr, q_history_arr, data_ix, x_label, q_label):\n",
        "    plt.figure()\n",
        "    plt.style.use(\"seaborn\")\n",
        "    fig, ((ax1, ax2), (ax3, ax4)) = plt.subplots(2, 2, figsize=(12, 9))\n",
        "\n",
        "    for x_history, q_history, c_data, q_data, linestyle,col in zip(x_history_arr, q_history_arr, cpoints, qpoints, linestyle_arr,color):\n",
        "        ax1.plot(x_history.history[\"val_accuracy\"], linestyle=linestyle, linewidth=1.5, color=col, label='Number of parameters '+str(c_data))\n",
        "        ax1.set_title(x_label)\n",
        "        ax1.set_ylabel(\"Accuracy\")\n",
        "        ax1.set_ylim([0, 1])\n",
        "        ax1.set_xlabel(\"Epoch\")\n",
        "        ax1.legend()\n",
        "        \n",
        "        ax2.plot(q_history.history[\"val_accuracy\"], linestyle=linestyle, linewidth=1.5, color=col, label='Number of parameters '+str(q_data))\n",
        "        ax2.set_title(q_label)\n",
        "        ax2.set_ylabel(\"Accuracy\")\n",
        "        ax2.set_ylim([0, 1])\n",
        "        ax2.set_xlabel(\"Epoch\")\n",
        "        ax2.legend()\n",
        "\n",
        "        ax3.plot(x_history.history[\"val_loss\"], linestyle=linestyle, linewidth=1.5, color=col, label='Number of parameters '+str(c_data))\n",
        "        ax3.set_ylabel(\"Loss\")\n",
        "        ax3.set_ylim([0, 8])\n",
        "        ax3.set_xlabel(\"Epoch\")\n",
        "        ax3.legend()\n",
        "        \n",
        "        ax4.plot(q_history.history[\"val_loss\"], linestyle=linestyle, linewidth=1.5, color=col, label='Number of parameters '+str(q_data))\n",
        "        ax4.set_ylabel(\"Loss\")\n",
        "        ax4.set_ylim([0, 8])\n",
        "        ax4.set_xlabel(\"Epoch\")\n",
        "        ax4.legend()\n",
        "\n",
        "    plt.title('Training models and reducing number of parameters')\n",
        "    plt.tight_layout()\n",
        "    plt.savefig(\"/Old_plots/\"+ data_ix +\"_conv_speech_loss.png\")\n",
        "\n",
        "x_label = \"Attn-BiLSTM without Quanv Layer\"\n",
        "q_label = \"Attn-BiLSTM with Quanv Layer\"\n",
        "\n",
        "plot_acc_loss(c_num_param, q_num_param, classic_hist_arr, qcnn_hist_arr, data_ix, x_label, q_label)"
      ]
    },
    {
      "cell_type": "markdown",
      "metadata": {
        "id": "UoKKn4-9FOTT"
      },
      "source": [
        "# 33. Print max and mean validation accuracies for data and parameter reduced models"
      ]
    },
    {
      "cell_type": "code",
      "execution_count": null,
      "metadata": {
        "id": "-VFSuR9kCncq"
      },
      "outputs": [],
      "source": [
        "for classic,quantum in zip(classic_hist_arr,qcnn_hist_arr):\n",
        "    print('Max acc classic:',np.max(classic[\"val_accuracy\"]))\n",
        "    print('Avg acc classic:',np.average(classic[\"val_accuracy\"]))\n",
        "    print('Max acc quantum:',np.max(quantum[\"val_accuracy\"]))\n",
        "    print('Avg acc quantum:',np.average(quantum[\"val_accuracy\"]))"
      ]
    },
    {
      "cell_type": "markdown",
      "metadata": {
        "id": "0WRb7j7dpDp_"
      },
      "source": [
        "#34. Quanvolution helper function for mock up data"
      ]
    },
    {
      "cell_type": "code",
      "execution_count": null,
      "metadata": {
        "id": "aXKnsxan0wlZ"
      },
      "outputs": [],
      "source": [
        "def gen_qspeech_no_save(x_train, kr):\n",
        "    q_train = []\n",
        "    \n",
        "    for idx, img in enumerate(x_train):\n",
        "        params = np.random.uniform(low=0, high=2*np.pi, size=(4, 3))\n",
        "        q_train.append(conv(img, kr))\n",
        "    \n",
        "    return np.asarray(q_train)"
      ]
    },
    {
      "cell_type": "markdown",
      "metadata": {
        "id": "F1ErSJ_KpPkd"
      },
      "source": [
        "# 35. Mock up data to test result of quanvolution of simple binary image"
      ]
    },
    {
      "cell_type": "code",
      "execution_count": null,
      "metadata": {
        "id": "McrdP8ctzt6P"
      },
      "outputs": [],
      "source": [
        "simple_img = [[[0,0],[0,0]],\n",
        "              [[1,0],[0,0]],\n",
        "              [[0,1],[0,0]],\n",
        "              [[0,0],[1,0]],\n",
        "              [[0,0],[0,1]],\n",
        "              [[1,1],[0,0]],\n",
        "              [[1,0],[1,0]],\n",
        "              [[1,0],[0,1]],\n",
        "              [[0,1],[1,0]],\n",
        "              [[0,1],[0,1]],\n",
        "              [[0,0],[1,1]],\n",
        "              [[1,1],[1,0]],\n",
        "              [[1,1],[0,1]],\n",
        "              [[0,1],[1,1]],\n",
        "              [[1,0],[1,1]],\n",
        "              [[1,1],[1,1]]]\n",
        "\n",
        "simple_img = np.array(simple_img)\n",
        "simple_img = simple_img.reshape(simple_img.shape[0],2,2,1)\n",
        "\n",
        "'''\n",
        "param_arr = [[0,0,0],\n",
        "             [2*np.pi,2*np.pi,2*np.pi],\n",
        "             [2*np.pi,2*np.pi,0],\n",
        "             [0,0,2*np.pi],\n",
        "             [0,2*np.pi,0],\n",
        "             [2*np.pi,0,2*np.pi],\n",
        "             [2*np.pi,0,0],\n",
        "             [0,2*np.pi,2*np.pi],\n",
        "             [np.pi,0,np.pi],\n",
        "             [np.pi,2*np.pi,np.pi],\n",
        "             [0,np.pi,np.pi],\n",
        "             [2*np.pi,np.pi,np.pi],\n",
        "             [np.pi,np.pi,2*np.pi],\n",
        "             [np.pi,np.pi,0]]\n",
        "'''\n",
        "'''\n",
        "param_arr = [[0.5*np.pi,0.5*np.pi,0.5*np.pi],\n",
        "             [1.5*np.pi,1.5*np.pi,1.5*np.pi],\n",
        "             [1.5*np.pi,1.5*np.pi,0.5*np.pi],\n",
        "             [0.5*np.pi,0.5*np.pi,1.5*np.pi],\n",
        "             [0.5*np.pi,1.5*np.pi,0.5*np.pi],\n",
        "             [1.5*np.pi,0.5*np.pi,1.5*np.pi],\n",
        "             [1.5*np.pi,0.5*np.pi,0.5*np.pi],\n",
        "             [0.5*np.pi,1.5*np.pi,1.5*np.pi],\n",
        "             [np.pi,0.5*np.pi,np.pi],\n",
        "             [np.pi,1.5*np.pi,np.pi],\n",
        "             [0.5*np.pi,np.pi,np.pi],\n",
        "             [1.5*np.pi,np.pi,np.pi],\n",
        "             [np.pi,np.pi,1.5*np.pi],\n",
        "             [np.pi,np.pi,0.5*np.pi]]\n",
        "'''\n",
        "\n",
        "unqs = []\n",
        "unqs = np.asarray(unqs)\n",
        "best = 0\n",
        "best_params = []\n",
        "for ind in range(10000000):\n",
        "    params = np.random.uniform(low=0, high=2*np.pi, size=(4, 3))\n",
        "    simple_q = gen_qspeech_no_save(simple_img,2)\n",
        "    simple_q = np.around(simple_q, 2)\n",
        "    cur = np.unique(simple_q).shape[0]\n",
        "    if cur >= best:\n",
        "      if cur > best:\n",
        "        best_params = []\n",
        "        unqs = []\n",
        "        unqs = np.asarray(unqs)\n",
        "        best = cur\n",
        "\n",
        "      best_params.append(params)\n",
        "      unqs = np.append(unqs,cur)\n",
        "      best_params = np.asarray(best_params)\n",
        "      np.save('/datasets/best_params.npy',best_params)\n",
        "      best_params = best_params.tolist()\n",
        "      np.save('/datasets/unqs.npy',unqs)\n",
        "        \n",
        "'''\n",
        "for a in param_arr: \n",
        "  for b in param_arr:\n",
        "    for c in param_arr:\n",
        "      for d in param_arr:\n",
        "        params = [a,b,c,d]\n",
        "        simple_q = gen_qspeech_no_save(simple_img,2)\n",
        "        simple_q = np.around(simple_q, 2)\n",
        "        cur = np.unique(simple_q).shape[0]\n",
        "        if cur > best:\n",
        "          best = cur\n",
        "          best_params.append([a,b,c,d])\n",
        "        \n",
        "        unqs.append(cur)\n",
        "'''\n",
        "\n",
        "for img in simple_q:\n",
        "  print(img)\n",
        "\n",
        "print()"
      ]
    },
    {
      "cell_type": "code",
      "execution_count": null,
      "metadata": {
        "id": "FZHHW2u7TB8C"
      },
      "outputs": [],
      "source": [
        "import numpy as np\n",
        "best_params = np.load('/datasets/best_params.npy')\n",
        "unqs = np.load('/datasets/unqs.npy')\n",
        "#params = best_params[4]\n",
        "\n",
        "simple_img = [[[0,0],[0,0]],\n",
        "              [[1,0],[0,0]],\n",
        "              [[0,1],[0,0]],\n",
        "              [[0,0],[1,0]],\n",
        "              [[0,0],[0,1]],\n",
        "              [[1,1],[0,0]],\n",
        "              [[1,0],[1,0]],\n",
        "              [[1,0],[0,1]],\n",
        "              [[0,1],[1,0]],\n",
        "              [[0,1],[0,1]],\n",
        "              [[0,0],[1,1]],\n",
        "              [[1,1],[1,0]],\n",
        "              [[1,1],[0,1]],\n",
        "              [[0,1],[1,1]],\n",
        "              [[1,0],[1,1]],\n",
        "              [[1,1],[1,1]]]\n",
        "\n",
        "simple_img = np.array(simple_img)\n",
        "simple_img = simple_img.reshape(simple_img.shape[0],2,2,1)\n",
        "\n",
        "simple_q = gen_qspeech_no_save(simple_img,2)\n",
        "simple_q = np.around(simple_q, 2)\n",
        "print(np.unique(simple_q).shape[0])\n",
        "print(simple_q)"
      ]
    },
    {
      "cell_type": "code",
      "execution_count": null,
      "metadata": {
        "id": "nP5CAXQ3wuIw"
      },
      "outputs": [],
      "source": [
        "fig = plt.figure()\n",
        "ax = fig.add_subplot(projection='3d')\n",
        "xs = []\n",
        "ys = []\n",
        "zs = []\n",
        "\n",
        "for x,y,z in best_params[4]:\n",
        "    xs.append(x)\n",
        "    ys.append(y)\n",
        "    zs.append(z)\n",
        "\n",
        "ax.scatter(xs, ys, zs)\n",
        "ax.axes.set_xlim3d(left=0, right=2*np.pi) \n",
        "ax.axes.set_ylim3d(bottom=0, top=2*np.pi) \n",
        "ax.axes.set_zlim3d(bottom=0, top=2*np.pi) \n",
        "ax.set_xlabel('X')\n",
        "ax.set_ylabel('Y')\n",
        "ax.set_zlabel('Z')\n",
        "\n",
        "plt.show()"
      ]
    }
  ],
  "metadata": {
    "colab": {
      "collapsed_sections": [
        "Qm4aCQp_n5dd",
        "uKiVmhI5TelQ",
        "Jvma096dTq4e",
        "ctaXwnxa2OfE",
        "gr4UHf9c4Wb5",
        "zs9p3x-iuGaa",
        "N_HhUF1GutNv",
        "f5xXnan73TD3",
        "bKRiIGJ53qdv",
        "5RREPFMN4EQN",
        "2qQxxbYj2kLg",
        "FhTsYGF52pi0",
        "G9WEFUrJC5Ug",
        "Z9WfGQUHluTW",
        "D9KLO4QO3djn",
        "A_ti0sx73gko",
        "LiuyFwYQDzrx",
        "m5m3Mh68D8I4",
        "PE86hgD8pcOE",
        "5e-HsngY3ZV-",
        "0zwTJHKUER4G",
        "CRND6mGJjbIG",
        "jhDRecBbD1ES",
        "rAuNRS6YCeJo",
        "G79NduKY1Am4",
        "yKx6rftF1JiX",
        "rhx0kPefCPm6",
        "YEE72G3zDOH4",
        "UoKKn4-9FOTT",
        "0WRb7j7dpDp_",
        "F1ErSJ_KpPkd"
      ],
      "provenance": []
    },
    "kernelspec": {
      "display_name": "Python 3",
      "name": "python3"
    },
    "language_info": {
      "name": "python"
    }
  },
  "nbformat": 4,
  "nbformat_minor": 0
}